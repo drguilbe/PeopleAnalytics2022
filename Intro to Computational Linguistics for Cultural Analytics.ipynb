{
 "cells": [
  {
   "cell_type": "markdown",
   "metadata": {},
   "source": [
    "## Class 5: Intro to Computational Linguistics for Cultural Analytics\n",
    "\n",
    "This is a custom made tutorial, written by Professor Douglas Guilbeault for his class on People Analytics\n",
    "at the Haas School of Business. February 2021. \n",
    "\n",
    "### Emphasis: Word Embedding Models for Cultural Analytics\n",
    "\n",
    "This notebook will measure cultural associations in language using Kozlowski et al's Geometries of Culture Method.\n",
    "This method uses word2vec, a word embedding model, to identify implicit cultural dimensions (e.g. gender) that allow us to see how words (e.g. occupations, brands) are associated with cultural features (e.g. gender or morality. \n",
    "\n",
    "References:\n",
    "Kozlowski, Austin C., Matt Taddy, and James A. Evans. “The Geometry of Culture: Analyzing the Meanings of Class through Word Embeddings.” American Sociological Review 84, no. 5 (October 1, 2019): 905–49. https://doi.org/10.1177/0003122419877135.\n",
    "\n",
    "NOTE: for this notebook to work, you will need to download this file \"GoogleNews-vectors-negative300.bin\" (e.g. from here, https://github.com/mmihaltz/word2vec-GoogleNews-vectors) and you will need to place this file in the same folder as you place this notebook. This file contains a word embedding model pre-trained on the corpus of Google books. "
   ]
  },
  {
   "cell_type": "code",
   "execution_count": 1,
   "metadata": {},
   "outputs": [],
   "source": [
    "import scipy\n",
    "import gensim\n",
    "import scipy\n",
    "import numpy as np #For arrays\n",
    "import pandas #Gives us DataFrames\n",
    "import matplotlib.pyplot as plt #For graphics\n",
    "import seaborn #Makes the graphics look nicer\n",
    "import sklearn.metrics.pairwise #For cosine similarity\n",
    "import sklearn.manifold #For T-SNE\n",
    "import sklearn.decomposition #For PCA\n",
    "\n",
    "#This 'magic' command makes the plots work better\n",
    "#in the notebook, don't use it outside of a notebook.\n",
    "#Also you can ignore the warning\n",
    "%matplotlib inline\n",
    "\n",
    "import os #For looking through files\n",
    "import os.path #For managing file paths"
   ]
  },
  {
   "cell_type": "markdown",
   "metadata": {},
   "source": [
    "### Define our functions\n",
    "\n",
    "As a beginner to Python, you won't need to know how these work. "
   ]
  },
  {
   "cell_type": "code",
   "execution_count": 2,
   "metadata": {},
   "outputs": [],
   "source": [
    "def normalize(vector):\n",
    "    normalized_vector = vector / np.linalg.norm(vector)\n",
    "    return normalized_vector\n",
    "\n",
    "def dimension(model, positives, negatives):\n",
    "    diff = sum([normalize(model[x]) for x in positives]) - sum([normalize(model[y]) for y in negatives])\n",
    "    return diff"
   ]
  },
  {
   "cell_type": "code",
   "execution_count": 3,
   "metadata": {},
   "outputs": [],
   "source": [
    "def process_inputs(model, dimension, dimension_name, word_list):\n",
    "    g = []\n",
    "    for word in word_list:\n",
    "        g.append(sklearn.metrics.pairwise.cosine_similarity(model[word].reshape(1,-1), dimension.reshape(1,-1))[0][0])\n",
    "    df = pandas.DataFrame({dimension_name: g}, index = word_list)\n",
    "    return df"
   ]
  },
  {
   "cell_type": "code",
   "execution_count": 45,
   "metadata": {},
   "outputs": [],
   "source": [
    "def Coloring(Series):\n",
    "    x = Series.values\n",
    "    y = x-x.min()\n",
    "    z = y/y.max()\n",
    "    c = list(plt.cm.rainbow(z))\n",
    "    return c\n",
    "\n",
    "def PlotDimension(ax,df, dim, title):\n",
    "    ax.set_frame_on(False)\n",
    "    ax.set_title(title, fontsize = 12)\n",
    "    colors = Coloring(df[dim])\n",
    "    for i, word in enumerate(df.index):\n",
    "        ax.annotate(word, (0, df[dim][i]), color = colors[i], alpha = 0.8, fontsize = 15)\n",
    "    MaxY = df[dim].max()\n",
    "    MinY = df[dim].min()\n",
    "    plt.ylim(MinY,MaxY)\n",
    "    plt.yticks(())\n",
    "    plt.xticks(())"
   ]
  },
  {
   "cell_type": "markdown",
   "metadata": {},
   "source": [
    "### Now let's run the model"
   ]
  },
  {
   "cell_type": "markdown",
   "metadata": {},
   "source": [
    "#### First, we will load the pre-trained word2vec embedding space based on Google News"
   ]
  },
  {
   "cell_type": "code",
   "execution_count": 5,
   "metadata": {},
   "outputs": [],
   "source": [
    "model = gensim.models.KeyedVectors.load_word2vec_format('GoogleNews-vectors-negative300.bin', binary=True)"
   ]
  },
  {
   "cell_type": "code",
   "execution_count": null,
   "metadata": {},
   "outputs": [],
   "source": [
    "##Run the following commands below to see all the datasets available\n",
    "##These include: Twitter, Wikipedia, and the General Internet Crawl\n",
    "\n",
    "#import gensim.downloader #load library for downloading language models for different datasets in gensim\n",
    "#print(list(gensim.downloader.info()['models'].keys()))#show all datasets preloaded into gensim\n"
   ]
  },
  {
   "cell_type": "markdown",
   "metadata": {},
   "source": [
    "#### Let's use a quick analogy to test our model"
   ]
  },
  {
   "cell_type": "code",
   "execution_count": 6,
   "metadata": {},
   "outputs": [
    {
     "data": {
      "text/plain": [
       "[('kings', 0.7138045430183411),\n",
       " ('queen', 0.6510956883430481),\n",
       " ('monarch', 0.6413194537162781),\n",
       " ('crown_prince', 0.6204219460487366),\n",
       " ('prince', 0.6159993410110474)]"
      ]
     },
     "execution_count": 6,
     "metadata": {},
     "output_type": "execute_result"
    }
   ],
   "source": [
    "model.most_similar(positive=['king'], topn=5)"
   ]
  },
  {
   "cell_type": "code",
   "execution_count": 7,
   "metadata": {},
   "outputs": [
    {
     "data": {
      "text/plain": [
       "[('queen', 0.7118192911148071),\n",
       " ('monarch', 0.6189674139022827),\n",
       " ('princess', 0.5902431607246399),\n",
       " ('crown_prince', 0.5499460697174072),\n",
       " ('prince', 0.5377321243286133),\n",
       " ('kings', 0.5236844420433044),\n",
       " ('Queen_Consort', 0.5235945582389832),\n",
       " ('queens', 0.5181134343147278),\n",
       " ('sultan', 0.5098593235015869),\n",
       " ('monarchy', 0.5087411999702454)]"
      ]
     },
     "execution_count": 7,
     "metadata": {},
     "output_type": "execute_result"
    }
   ],
   "source": [
    "model.most_similar(positive=['woman', 'king'], negative=['man'])"
   ]
  },
  {
   "cell_type": "markdown",
   "metadata": {},
   "source": [
    "##### Next, we will build the cultural dimensions we're interested. For example, let's create a 'gender' dimensions"
   ]
  },
  {
   "cell_type": "code",
   "execution_count": 46,
   "metadata": {},
   "outputs": [],
   "source": [
    "Gender = dimension(model, ['man','him','he', 'male', 'boy'], ['woman', 'her', 'she', 'female', 'girl'])"
   ]
  },
  {
   "cell_type": "markdown",
   "metadata": {},
   "source": [
    "##### Now, let's look at the different concepts we want to examine along the gender dimension"
   ]
  },
  {
   "cell_type": "code",
   "execution_count": 47,
   "metadata": {},
   "outputs": [],
   "source": [
    "Occupations = [\"CEO\", \"banker\",\"engineer\", \"carpenter\",\"entrepreneur\",\n",
    "               \"hairdresser\", \"nanny\",\"assistant\",\"nurse\", \"secretary\", \"intern\"]\n",
    "Foods = [\"steak\", \"bacon\", \"croissant\", \"cheesecake\", \"salad\", \"cheeseburger\", \"vegetables\", \"beer\", \"wine\", \"pastry\"]\n",
    "Sports  = [\"basketball\", \"baseball\", \"boxing\", \"softball\", \"volleyball\", \"tennis\", \"golf\", \"hockey\", \"soccer\"]"
   ]
  },
  {
   "cell_type": "code",
   "execution_count": 48,
   "metadata": {},
   "outputs": [],
   "source": [
    "Occupations_output = process_inputs(model=model, dimension=Gender, dimension_name='gender', word_list=Occupations) \n",
    "Food_output = process_inputs(model=model, dimension=Gender, dimension_name='gender', word_list=Foods)\n",
    "Sports_output = process_inputs(model=model, dimension=Gender, dimension_name='gender', word_list=Sports)"
   ]
  },
  {
   "cell_type": "markdown",
   "metadata": {},
   "source": [
    "#### Let's look at how 'occupations' fall along this gender dimension"
   ]
  },
  {
   "cell_type": "code",
   "execution_count": 49,
   "metadata": {},
   "outputs": [
    {
     "data": {
      "text/html": [
       "<div>\n",
       "<style scoped>\n",
       "    .dataframe tbody tr th:only-of-type {\n",
       "        vertical-align: middle;\n",
       "    }\n",
       "\n",
       "    .dataframe tbody tr th {\n",
       "        vertical-align: top;\n",
       "    }\n",
       "\n",
       "    .dataframe thead th {\n",
       "        text-align: right;\n",
       "    }\n",
       "</style>\n",
       "<table border=\"1\" class=\"dataframe\">\n",
       "  <thead>\n",
       "    <tr style=\"text-align: right;\">\n",
       "      <th></th>\n",
       "      <th>gender</th>\n",
       "    </tr>\n",
       "  </thead>\n",
       "  <tbody>\n",
       "    <tr>\n",
       "      <th>nurse</th>\n",
       "      <td>-0.275027</td>\n",
       "    </tr>\n",
       "    <tr>\n",
       "      <th>hairdresser</th>\n",
       "      <td>-0.229392</td>\n",
       "    </tr>\n",
       "    <tr>\n",
       "      <th>nanny</th>\n",
       "      <td>-0.176223</td>\n",
       "    </tr>\n",
       "    <tr>\n",
       "      <th>intern</th>\n",
       "      <td>-0.127041</td>\n",
       "    </tr>\n",
       "    <tr>\n",
       "      <th>secretary</th>\n",
       "      <td>-0.059173</td>\n",
       "    </tr>\n",
       "    <tr>\n",
       "      <th>assistant</th>\n",
       "      <td>-0.019041</td>\n",
       "    </tr>\n",
       "    <tr>\n",
       "      <th>entrepreneur</th>\n",
       "      <td>0.037492</td>\n",
       "    </tr>\n",
       "    <tr>\n",
       "      <th>banker</th>\n",
       "      <td>0.046643</td>\n",
       "    </tr>\n",
       "    <tr>\n",
       "      <th>CEO</th>\n",
       "      <td>0.078593</td>\n",
       "    </tr>\n",
       "    <tr>\n",
       "      <th>engineer</th>\n",
       "      <td>0.103626</td>\n",
       "    </tr>\n",
       "    <tr>\n",
       "      <th>carpenter</th>\n",
       "      <td>0.126375</td>\n",
       "    </tr>\n",
       "  </tbody>\n",
       "</table>\n",
       "</div>"
      ],
      "text/plain": [
       "                gender\n",
       "nurse        -0.275027\n",
       "hairdresser  -0.229392\n",
       "nanny        -0.176223\n",
       "intern       -0.127041\n",
       "secretary    -0.059173\n",
       "assistant    -0.019041\n",
       "entrepreneur  0.037492\n",
       "banker        0.046643\n",
       "CEO           0.078593\n",
       "engineer      0.103626\n",
       "carpenter     0.126375"
      ]
     },
     "execution_count": 49,
     "metadata": {},
     "output_type": "execute_result"
    }
   ],
   "source": [
    "#Occupations_output\n",
    "Occupations_output.sort_values(by=['gender'])"
   ]
  },
  {
   "cell_type": "code",
   "execution_count": 51,
   "metadata": {},
   "outputs": [
    {
     "data": {
      "image/png": "[encoded data removed]",
      "text/plain": [
       "<Figure size 864x288 with 3 Axes>"
      ]
     },
     "metadata": {},
     "output_type": "display_data"
    }
   ],
   "source": [
    "#appearing high on the plot indicates that a word falls on the male side of the gender dimensions\n",
    "#appearing low on the plot indicates that a word falls on the female side of the gender dimensions\n",
    "\n",
    "fig = plt.figure(figsize = (12,4))\n",
    "ax1 = fig.add_subplot(131)\n",
    "PlotDimension(ax1, Occupations_output, 'gender', 'Jobs')\n",
    "ax2 = fig.add_subplot(132)\n",
    "PlotDimension(ax2, Food_output, 'gender', 'Food')\n",
    "ax3 = fig.add_subplot(133)\n",
    "PlotDimension(ax3, Sports_output, 'gender', 'Sports')\n",
    "plt.show()\n"
   ]
  },
  {
   "cell_type": "markdown",
   "metadata": {},
   "source": [
    "##### Now, let's construct another dimension we're interested in. This time let's make a moral dimension"
   ]
  },
  {
   "cell_type": "code",
   "execution_count": 52,
   "metadata": {},
   "outputs": [],
   "source": [
    "Moral = dimension(model,['good','moral','kind', 'trustworthy', 'honest', 'selfless'], \n",
    "                  ['bad', 'immoral', 'unkind', 'untrustworthy', 'deceitful', 'selfish'])"
   ]
  },
  {
   "cell_type": "code",
   "execution_count": 53,
   "metadata": {},
   "outputs": [],
   "source": [
    "test_categories  = [\"villian\", \"hero\"]\n",
    "Companies  = [\"Google\", \"Facebook\", \"Twitter\", \"IBM\", \"Amazon\", \"Microsoft\", \n",
    "              \"Airbnb\", \"Pepsi\", \"Pfizer\", \"CocaCola\",\"Monsanto\", \"Tyson\"]"
   ]
  },
  {
   "cell_type": "code",
   "execution_count": 54,
   "metadata": {},
   "outputs": [],
   "source": [
    "Companies_output = process_inputs(model=model, dimension=Moral, dimension_name='Moral', word_list=Companies) \n",
    "test_categories_output = process_inputs(model=model, dimension=Moral, dimension_name='Moral', word_list=test_categories) "
   ]
  },
  {
   "cell_type": "code",
   "execution_count": 55,
   "metadata": {},
   "outputs": [
    {
     "data": {
      "text/html": [
       "<div>\n",
       "<style scoped>\n",
       "    .dataframe tbody tr th:only-of-type {\n",
       "        vertical-align: middle;\n",
       "    }\n",
       "\n",
       "    .dataframe tbody tr th {\n",
       "        vertical-align: top;\n",
       "    }\n",
       "\n",
       "    .dataframe thead th {\n",
       "        text-align: right;\n",
       "    }\n",
       "</style>\n",
       "<table border=\"1\" class=\"dataframe\">\n",
       "  <thead>\n",
       "    <tr style=\"text-align: right;\">\n",
       "      <th></th>\n",
       "      <th>Moral</th>\n",
       "    </tr>\n",
       "  </thead>\n",
       "  <tbody>\n",
       "    <tr>\n",
       "      <th>villian</th>\n",
       "      <td>-0.156436</td>\n",
       "    </tr>\n",
       "    <tr>\n",
       "      <th>hero</th>\n",
       "      <td>0.070267</td>\n",
       "    </tr>\n",
       "  </tbody>\n",
       "</table>\n",
       "</div>"
      ],
      "text/plain": [
       "            Moral\n",
       "villian -0.156436\n",
       "hero     0.070267"
      ]
     },
     "execution_count": 55,
     "metadata": {},
     "output_type": "execute_result"
    }
   ],
   "source": [
    "test_categories_output.sort_values(by=['Moral'])\n",
    "#Companies_output.sort_values(by=['Moral'])"
   ]
  },
  {
   "cell_type": "code",
   "execution_count": 56,
   "metadata": {},
   "outputs": [
    {
     "data": {
      "image/png": "[encoded data removed]",
      "text/plain": [
       "<Figure size 864x288 with 2 Axes>"
      ]
     },
     "metadata": {},
     "output_type": "display_data"
    }
   ],
   "source": [
    "#appearing high on the plot indicates that a word falls on the male side of the gender dimensions\n",
    "#appearing low on the plot indicates that a word falls on the female side of the gender dimensions\n",
    "\n",
    "fig = plt.figure(figsize = (12,4))\n",
    "ax1 = fig.add_subplot(131)\n",
    "PlotDimension(ax1, test_categories_output, 'Moral', 'Test')\n",
    "ax2 = fig.add_subplot(132)\n",
    "PlotDimension(ax2, Companies_output, 'Moral', \"companies\")\n",
    "\n",
    "plt.show()\n"
   ]
  },
  {
   "cell_type": "code",
   "execution_count": 65,
   "metadata": {},
   "outputs": [],
   "source": [
    "tech_companies  = [\"Google\", \"Facebook\", \"Twitter\", \"Microsoft\", \"Apple\", \"SpaceX\"]"
   ]
  },
  {
   "cell_type": "code",
   "execution_count": 66,
   "metadata": {},
   "outputs": [],
   "source": [
    "Competitive = dimension(model, ['winner', 'rich', 'success'], ['loser', 'poor', 'failure'])"
   ]
  },
  {
   "cell_type": "code",
   "execution_count": 67,
   "metadata": {},
   "outputs": [],
   "source": [
    "tech_companies_competitive_df = process_inputs(model=model, dimension=Competitive, dimension_name='Competitive', word_list=tech_companies) "
   ]
  },
  {
   "cell_type": "code",
   "execution_count": 68,
   "metadata": {},
   "outputs": [
    {
     "data": {
      "image/png": "[encoded data removed]",
      "text/plain": [
       "<Figure size 864x288 with 1 Axes>"
      ]
     },
     "metadata": {},
     "output_type": "display_data"
    }
   ],
   "source": [
    "#appearing high on the plot indicates that a word falls on the male side of the gender dimensions\n",
    "#appearing low on the plot indicates that a word falls on the female side of the gender dimensions\n",
    "\n",
    "fig = plt.figure(figsize = (12,4))\n",
    "ax2 = fig.add_subplot(132)\n",
    "PlotDimension(ax2, tech_companies_competitive_df, 'Competitive', 'Companies')\n",
    "\n",
    "plt.show()\n"
   ]
  }
 ],
 "metadata": {
  "kernelspec": {
   "display_name": "Python 3",
   "language": "python",
   "name": "python3"
  },
  "language_info": {
   "codemirror_mode": {
    "name": "ipython",
    "version": 3
   },
   "file_extension": ".py",
   "mimetype": "text/x-python",
   "name": "python",
   "nbconvert_exporter": "python",
   "pygments_lexer": "ipython3",
   "version": "3.8.3"
  }
 },
 "nbformat": 4,
 "nbformat_minor": 4
}
